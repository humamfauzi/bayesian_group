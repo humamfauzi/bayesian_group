{
 "cells": [
  {
   "cell_type": "markdown",
   "metadata": {},
   "source": [
    "## Causality\n",
    "\n",
    "Pada bab ini akan dijelaskan mengapa menambah variabel prediktor (feature) tidak selalu menjadi solusi dalam memprediksi variabel terobserrvasi.\n",
    "\n",
    "#### Multicoliniearity\n",
    "\n",
    "Pada bab sebelumnya, disajikan data tetang profil primata dan energi dalam susu. Apakah semua kolom dapat diperlakukan sebagai variabel prediktor? Ada beberapa hal yang perlu diperhatikan. Pertama adalah tentang colinearity.\n",
    "\n",
    "Colinearity berarti adanya asosiasi yang kuat antara dua atau lebih varibel prediktor. Konsekuensi dari hal ini adalah pada distribusi posterior tidak terlihat pengaruh pengaruh variabel colinear dengan variebl terobservasi.\n",
    "\n",
    "Colinearity dapat dilihat pada contoh berikut"
   ]
  },
  {
   "cell_type": "code",
   "execution_count": 78,
   "metadata": {},
   "outputs": [],
   "source": [
    "import numpy as np\n",
    "from scipy.stats import norm, uniform, binom, bernoulli\n",
    "import pandas as pd\n",
    "import pymc3 as pm\n",
    "import seaborn as sns\n",
    "import matplotlib.pyplot as plt\n",
    "%matplotlib inline\n",
    "import logging\n",
    "logger = logging.getLogger('pymc3')\n",
    "logger.setLevel(logging.ERROR)"
   ]
  },
  {
   "cell_type": "code",
   "execution_count": 5,
   "metadata": {},
   "outputs": [],
   "source": [
    "np.random.seed(7)\n",
    "\n",
    "n_individual = 100\n",
    "height = norm.rvs(size=n_individual, loc = 10, scale = 2)\n",
    "leg_prop = uniform.rvs(size=n_individual,loc=0.4, scale=0.1)\n",
    "leg_left = height * leg_prop + norm.rvs(size=n_individual, loc=0, scale=.02)\n",
    "leg_right = height * leg_prop + norm.rvs(size=n_individual, loc=0, scale=.02)\n",
    "\n",
    "df = pd.DataFrame({})\n",
    "df['height'] = height\n",
    "df['leg_left'] = leg_left\n",
    "df['leg_right'] = leg_right"
   ]
  },
  {
   "cell_type": "markdown",
   "metadata": {},
   "source": [
    "For some reason this model is not convergence when including both leg\n",
    "```python\n",
    "with pm.Model() as m61:\n",
    "    alpha = pm.Normal('alpha', mu = 10, sd = 100)\n",
    "    beta_r = pm.Normal('beta_r', mu = 2, sd = 10)\n",
    "    beta_l = pm.Normal('beta_l', mu = 2, sd = 10)\n",
    "    sigma = pm.Exponential('sigma', lam = 1)\n",
    "    mu = pm.Deterministic('mu', alpha + beta_r * df['leg_right'] + beta_l * df['leg_left'])\n",
    "    result = pm.Normal('result', mu = mu, sd = sigma, observed=df['height'])\n",
    "    \n",
    "with m61:\n",
    "    trace_m61 = pm.sample(1000, tune=1000)\n",
    "    df_trace_m61 = pm.trace_to_dataframe(trace_m61)\n",
    "```"
   ]
  },
  {
   "cell_type": "markdown",
   "metadata": {},
   "source": [
    "sns.distplot(df_trace_m61['alpha'])\n",
    "sns.distplot(df_trace_m61['beta_l'])\n",
    "sns.distplot(df_trace_m61['beta_r'])\n",
    "sns.distplot(df_trace_m61['sigma'])"
   ]
  },
  {
   "cell_type": "markdown",
   "metadata": {},
   "source": [
    "df_trace_m61[[\"alpha\", \"beta_r\", \"beta_l\",\"sigma\"]].describe()"
   ]
  },
  {
   "cell_type": "markdown",
   "metadata": {},
   "source": [
    "y_axis = [df_trace_m61['alpha'].mean() + df_trace_m61['beta_r'].mean() * i for i in np.sort(df['leg_right'])]\n",
    "plt.scatter(df['leg_right'], df['height'])\n",
    "plt.scatter(df['leg_left'], df['height'])\n",
    "plt.plot(np.sort(df['leg_right']), y_axis)"
   ]
  },
  {
   "cell_type": "markdown",
   "metadata": {},
   "source": [
    "Masalah yang dicatumkan pada buku tidak dapat direplikasi"
   ]
  },
  {
   "cell_type": "markdown",
   "metadata": {},
   "source": [
    "Inti dari colinearity adalah adanya efek saling meniadakan antara kedua variabel yang colinear. Semisal pada kasus contoh kaki yang ditampilkan adalah model linear regresi mengaggap bahwa apabila nilai kaki berbanding terbalik dengan kaki lainya. Ini dapat dibuktikan dengan menggunakan model single variate salah satu kaki. Jumlah gradient pada multivariate akan sama dengan nilai gradient pada model single variate terlepas dari kaki mana yang diambil sebagai prediktor. \n",
    "\n",
    "Ini akan berdampak pada pengambilan kesimpulan karena model linear meanggap bahwa variabel colinear berbanding terbalik antar satu dengan yang lain. Secara model tidak ada masalah karena dalam proses pencarian model terbaik hal tersebut harus terjadi. Ini mendorong para pembuat model mengenal variabel terlebih dahulu sebelum membangun model dari variabel-variabel tersedia."
   ]
  },
  {
   "cell_type": "code",
   "execution_count": 6,
   "metadata": {},
   "outputs": [
    {
     "name": "stdout",
     "output_type": "stream",
     "text": [
      "(29, 8)\n"
     ]
    },
    {
     "data": {
      "text/html": [
       "<div>\n",
       "<style scoped>\n",
       "    .dataframe tbody tr th:only-of-type {\n",
       "        vertical-align: middle;\n",
       "    }\n",
       "\n",
       "    .dataframe tbody tr th {\n",
       "        vertical-align: top;\n",
       "    }\n",
       "\n",
       "    .dataframe thead th {\n",
       "        text-align: right;\n",
       "    }\n",
       "</style>\n",
       "<table border=\"1\" class=\"dataframe\">\n",
       "  <thead>\n",
       "    <tr style=\"text-align: right;\">\n",
       "      <th></th>\n",
       "      <th>clade</th>\n",
       "      <th>species</th>\n",
       "      <th>kcal.per.g</th>\n",
       "      <th>perc.fat</th>\n",
       "      <th>perc.protein</th>\n",
       "      <th>perc.lactose</th>\n",
       "      <th>mass</th>\n",
       "      <th>neocortex.perc</th>\n",
       "    </tr>\n",
       "  </thead>\n",
       "  <tbody>\n",
       "    <tr>\n",
       "      <th>0</th>\n",
       "      <td>Strepsirrhine</td>\n",
       "      <td>Eulemur fulvus</td>\n",
       "      <td>0.49</td>\n",
       "      <td>16.60</td>\n",
       "      <td>15.42</td>\n",
       "      <td>67.98</td>\n",
       "      <td>1.95</td>\n",
       "      <td>55.16</td>\n",
       "    </tr>\n",
       "    <tr>\n",
       "      <th>1</th>\n",
       "      <td>Strepsirrhine</td>\n",
       "      <td>E macaco</td>\n",
       "      <td>0.51</td>\n",
       "      <td>19.27</td>\n",
       "      <td>16.91</td>\n",
       "      <td>63.82</td>\n",
       "      <td>2.09</td>\n",
       "      <td>NaN</td>\n",
       "    </tr>\n",
       "    <tr>\n",
       "      <th>2</th>\n",
       "      <td>Strepsirrhine</td>\n",
       "      <td>E mongoz</td>\n",
       "      <td>0.46</td>\n",
       "      <td>14.11</td>\n",
       "      <td>16.85</td>\n",
       "      <td>69.04</td>\n",
       "      <td>2.51</td>\n",
       "      <td>NaN</td>\n",
       "    </tr>\n",
       "    <tr>\n",
       "      <th>3</th>\n",
       "      <td>Strepsirrhine</td>\n",
       "      <td>E rubriventer</td>\n",
       "      <td>0.48</td>\n",
       "      <td>14.91</td>\n",
       "      <td>13.18</td>\n",
       "      <td>71.91</td>\n",
       "      <td>1.62</td>\n",
       "      <td>NaN</td>\n",
       "    </tr>\n",
       "    <tr>\n",
       "      <th>4</th>\n",
       "      <td>Strepsirrhine</td>\n",
       "      <td>Lemur catta</td>\n",
       "      <td>0.60</td>\n",
       "      <td>27.28</td>\n",
       "      <td>19.50</td>\n",
       "      <td>53.22</td>\n",
       "      <td>2.19</td>\n",
       "      <td>NaN</td>\n",
       "    </tr>\n",
       "  </tbody>\n",
       "</table>\n",
       "</div>"
      ],
      "text/plain": [
       "           clade         species  kcal.per.g  perc.fat  perc.protein  \\\n",
       "0  Strepsirrhine  Eulemur fulvus        0.49     16.60         15.42   \n",
       "1  Strepsirrhine        E macaco        0.51     19.27         16.91   \n",
       "2  Strepsirrhine        E mongoz        0.46     14.11         16.85   \n",
       "3  Strepsirrhine   E rubriventer        0.48     14.91         13.18   \n",
       "4  Strepsirrhine     Lemur catta        0.60     27.28         19.50   \n",
       "\n",
       "   perc.lactose  mass  neocortex.perc  \n",
       "0         67.98  1.95           55.16  \n",
       "1         63.82  2.09             NaN  \n",
       "2         69.04  2.51             NaN  \n",
       "3         71.91  1.62             NaN  \n",
       "4         53.22  2.19             NaN  "
      ]
     },
     "execution_count": 6,
     "metadata": {},
     "output_type": "execute_result"
    }
   ],
   "source": [
    "raw_url = \"https://raw.githubusercontent.com/pymc-devs/resources/master/Rethinking/Data/milk.csv\"\n",
    "df = pd.read_csv(raw_url, sep=';')\n",
    "print(df.shape)\n",
    "df.head()"
   ]
  },
  {
   "cell_type": "code",
   "execution_count": 7,
   "metadata": {},
   "outputs": [],
   "source": [
    "def standarize(df, cols, destination):\n",
    "    df[destination] = (df[cols] - df[cols].mean()) / df[cols].std()\n",
    "    \n",
    "standarize(df, 'kcal.per.g', 'K')\n",
    "standarize(df, 'perc.fat', 'F')\n",
    "standarize(df, 'perc.lactose', 'L')"
   ]
  },
  {
   "cell_type": "code",
   "execution_count": 8,
   "metadata": {},
   "outputs": [
    {
     "data": {
      "text/html": [
       "\n",
       "    <div>\n",
       "        <style>\n",
       "            /* Turns off some styling */\n",
       "            progress {\n",
       "                /* gets rid of default border in Firefox and Opera. */\n",
       "                border: none;\n",
       "                /* Needs to be in here for Safari polyfill so background images work as expected. */\n",
       "                background-size: auto;\n",
       "            }\n",
       "            .progress-bar-interrupted, .progress-bar-interrupted::-webkit-progress-bar {\n",
       "                background: #F44336;\n",
       "            }\n",
       "        </style>\n",
       "      <progress value='2000' class='' max='2000' style='width:300px; height:20px; vertical-align: middle;'></progress>\n",
       "      100.00% [2000/2000 00:06<00:00 Sampling chain 0, 0 divergences]\n",
       "    </div>\n",
       "    "
      ],
      "text/plain": [
       "<IPython.core.display.HTML object>"
      ]
     },
     "metadata": {},
     "output_type": "display_data"
    },
    {
     "data": {
      "text/html": [
       "\n",
       "    <div>\n",
       "        <style>\n",
       "            /* Turns off some styling */\n",
       "            progress {\n",
       "                /* gets rid of default border in Firefox and Opera. */\n",
       "                border: none;\n",
       "                /* Needs to be in here for Safari polyfill so background images work as expected. */\n",
       "                background-size: auto;\n",
       "            }\n",
       "            .progress-bar-interrupted, .progress-bar-interrupted::-webkit-progress-bar {\n",
       "                background: #F44336;\n",
       "            }\n",
       "        </style>\n",
       "      <progress value='2000' class='' max='2000' style='width:300px; height:20px; vertical-align: middle;'></progress>\n",
       "      100.00% [2000/2000 00:02<00:00 Sampling chain 1, 0 divergences]\n",
       "    </div>\n",
       "    "
      ],
      "text/plain": [
       "<IPython.core.display.HTML object>"
      ]
     },
     "metadata": {},
     "output_type": "display_data"
    },
    {
     "data": {
      "text/html": [
       "\n",
       "    <div>\n",
       "        <style>\n",
       "            /* Turns off some styling */\n",
       "            progress {\n",
       "                /* gets rid of default border in Firefox and Opera. */\n",
       "                border: none;\n",
       "                /* Needs to be in here for Safari polyfill so background images work as expected. */\n",
       "                background-size: auto;\n",
       "            }\n",
       "            .progress-bar-interrupted, .progress-bar-interrupted::-webkit-progress-bar {\n",
       "                background: #F44336;\n",
       "            }\n",
       "        </style>\n",
       "      <progress value='2000' class='' max='2000' style='width:300px; height:20px; vertical-align: middle;'></progress>\n",
       "      100.00% [2000/2000 00:02<00:00 Sampling chain 0, 0 divergences]\n",
       "    </div>\n",
       "    "
      ],
      "text/plain": [
       "<IPython.core.display.HTML object>"
      ]
     },
     "metadata": {},
     "output_type": "display_data"
    },
    {
     "data": {
      "text/html": [
       "\n",
       "    <div>\n",
       "        <style>\n",
       "            /* Turns off some styling */\n",
       "            progress {\n",
       "                /* gets rid of default border in Firefox and Opera. */\n",
       "                border: none;\n",
       "                /* Needs to be in here for Safari polyfill so background images work as expected. */\n",
       "                background-size: auto;\n",
       "            }\n",
       "            .progress-bar-interrupted, .progress-bar-interrupted::-webkit-progress-bar {\n",
       "                background: #F44336;\n",
       "            }\n",
       "        </style>\n",
       "      <progress value='2000' class='' max='2000' style='width:300px; height:20px; vertical-align: middle;'></progress>\n",
       "      100.00% [2000/2000 00:02<00:00 Sampling chain 1, 0 divergences]\n",
       "    </div>\n",
       "    "
      ],
      "text/plain": [
       "<IPython.core.display.HTML object>"
      ]
     },
     "metadata": {},
     "output_type": "display_data"
    }
   ],
   "source": [
    "with pm.Model() as m61:\n",
    "    alpha = pm.Normal('alpha', mu=0, sd=.2)\n",
    "    beta = pm.Normal('beta', mu=0, sd=.5)\n",
    "    mu = pm.Deterministic('mu', alpha + beta * df['F'])\n",
    "    sigma = pm.Exponential('sigma', lam=1)\n",
    "    result = pm.Normal('result', mu=mu, sd=sigma, observed=df['K'])\n",
    "\n",
    "with m61:\n",
    "    trace_m61 = pm.sample(1000, tune=1000)\n",
    "    df_trace_m61 = pm.trace_to_dataframe(trace_m61)\n",
    "\n",
    "with pm.Model() as m62:\n",
    "    alpha = pm.Normal('alpha', mu=0, sd=.2)\n",
    "    beta = pm.Normal('beta', mu=0, sd=.5)\n",
    "    mu = pm.Deterministic('mu', alpha + beta * df['L'])\n",
    "    sigma = pm.Exponential('sigma', lam=1)\n",
    "    result = pm.Normal('result', mu=mu, sd=sigma, observed=df['K'])\n",
    "\n",
    "with m62:\n",
    "    trace_m62 = pm.sample(1000, tune=1000)\n",
    "    df_trace_m62 = pm.trace_to_dataframe(trace_m62)"
   ]
  },
  {
   "cell_type": "code",
   "execution_count": 9,
   "metadata": {},
   "outputs": [
    {
     "data": {
      "image/png": "[encoded data removed]",
      "text/plain": [
       "<Figure size 1008x504 with 1 Axes>"
      ]
     },
     "metadata": {
      "needs_background": "light"
     },
     "output_type": "display_data"
    }
   ],
   "source": [
    "fig, ax = plt.subplots(nrows=1, ncols=1)\n",
    "fig.set_figwidth(14)\n",
    "fig.set_figheight(7)\n",
    "\n",
    "ax.scatter(df['F'], df['K'], marker='x')\n",
    "x_axis = df.sort_values('F')\n",
    "y_axis = df_trace_m61['alpha'].mean() + df_trace_m61['beta'].mean() * x_axis['F']\n",
    "ax.plot(x_axis['F'], y_axis, color='k', label='F -> K')\n",
    "\n",
    "ax.scatter(df['L'], df['K'], marker='x')\n",
    "x_axis = df.sort_values('L')\n",
    "y_axis = df_trace_m62['alpha'].mean() + df_trace_m62['beta'].mean() * x_axis['L']\n",
    "ax.plot(x_axis['L'], y_axis, color='r', label='L -> K')\n",
    "ax.legend()\n",
    "ax.grid(b=True)"
   ]
  },
  {
   "cell_type": "code",
   "execution_count": 10,
   "metadata": {},
   "outputs": [
    {
     "data": {
      "text/plain": [
       "<seaborn.axisgrid.PairGrid at 0x7f2268733190>"
      ]
     },
     "execution_count": 10,
     "metadata": {},
     "output_type": "execute_result"
    },
    {
     "data": {
      "image/png": "[encoded data removed]",
      "text/plain": [
       "<Figure size 540x540 with 12 Axes>"
      ]
     },
     "metadata": {
      "needs_background": "light"
     },
     "output_type": "display_data"
    }
   ],
   "source": [
    "sns.pairplot(df[['kcal.per.g', 'perc.fat', 'perc.lactose']])"
   ]
  },
  {
   "cell_type": "markdown",
   "metadata": {},
   "source": [
    "Seperti yang dapat dilihat baik dari regresi dan plot pasangan bahwa nilai persenan lactose berbanding terbalik dengan energi per gram sedangkan untuk lemak berbanding lurus. Pada plot regresi diatas dapat dilihat juga bahwa gradient cendrung saling meniadakan (apabila dijumlahkan nilai gradient pada setiap x untuk kedua variabel tersebut hasilnya akan menjadi nol. Ini memliki kasus yang berbeda dengan kasus panjang kaki sebelumnya. Selanjutnya akan dibuatkan model multivariate yang melibatkan keduanya. "
   ]
  },
  {
   "cell_type": "code",
   "execution_count": 11,
   "metadata": {},
   "outputs": [
    {
     "data": {
      "text/html": [
       "\n",
       "    <div>\n",
       "        <style>\n",
       "            /* Turns off some styling */\n",
       "            progress {\n",
       "                /* gets rid of default border in Firefox and Opera. */\n",
       "                border: none;\n",
       "                /* Needs to be in here for Safari polyfill so background images work as expected. */\n",
       "                background-size: auto;\n",
       "            }\n",
       "            .progress-bar-interrupted, .progress-bar-interrupted::-webkit-progress-bar {\n",
       "                background: #F44336;\n",
       "            }\n",
       "        </style>\n",
       "      <progress value='2000' class='' max='2000' style='width:300px; height:20px; vertical-align: middle;'></progress>\n",
       "      100.00% [2000/2000 00:09<00:00 Sampling chain 0, 0 divergences]\n",
       "    </div>\n",
       "    "
      ],
      "text/plain": [
       "<IPython.core.display.HTML object>"
      ]
     },
     "metadata": {},
     "output_type": "display_data"
    },
    {
     "data": {
      "text/html": [
       "\n",
       "    <div>\n",
       "        <style>\n",
       "            /* Turns off some styling */\n",
       "            progress {\n",
       "                /* gets rid of default border in Firefox and Opera. */\n",
       "                border: none;\n",
       "                /* Needs to be in here for Safari polyfill so background images work as expected. */\n",
       "                background-size: auto;\n",
       "            }\n",
       "            .progress-bar-interrupted, .progress-bar-interrupted::-webkit-progress-bar {\n",
       "                background: #F44336;\n",
       "            }\n",
       "        </style>\n",
       "      <progress value='2000' class='' max='2000' style='width:300px; height:20px; vertical-align: middle;'></progress>\n",
       "      100.00% [2000/2000 00:06<00:00 Sampling chain 1, 0 divergences]\n",
       "    </div>\n",
       "    "
      ],
      "text/plain": [
       "<IPython.core.display.HTML object>"
      ]
     },
     "metadata": {},
     "output_type": "display_data"
    }
   ],
   "source": [
    "with pm.Model() as m63:\n",
    "    alpha = pm.Normal('alpha', mu=0, sd=.2)\n",
    "    beta_f = pm.Normal('beta_f', mu=0, sd=.5)\n",
    "    beta_l = pm.Normal('beta_l', mu=0, sd=.5)\n",
    "    mu =pm.Deterministic('mu', alpha + beta_f * df['F'] + beta_l * df['L'])\n",
    "    sigma = pm.Exponential('sigma', lam=1)\n",
    "    result = pm.Normal('result', mu=mu, sd=sigma, observed=df['K'])\n",
    "\n",
    "with m63:\n",
    "    trace_m63 = pm.sample(1000, tune=1000)\n",
    "    df_trace_m63 = pm.trace_to_dataframe(trace_m63)"
   ]
  },
  {
   "cell_type": "code",
   "execution_count": 12,
   "metadata": {},
   "outputs": [
    {
     "name": "stdout",
     "output_type": "stream",
     "text": [
      "F -> K\n",
      "       alpha  beta  sigma  mu__0\n",
      "mean  -0.00  0.86   0.48  -1.04\n",
      "std    0.09  0.09   0.07   0.14 \n",
      "\n",
      "L -> K\n",
      "       alpha  beta  sigma  mu__0\n",
      "mean  -0.00 -0.90   0.41  -1.18\n",
      "std    0.07  0.08   0.06   0.13 \n",
      "\n",
      "F & L => K\n",
      "       alpha  beta_f  beta_l  sigma  mu__0\n",
      "mean  -0.00    0.26   -0.66   0.41  -1.18\n",
      "std    0.07    0.20    0.20   0.06   0.13 \n",
      "\n"
     ]
    }
   ],
   "source": [
    "print(\"F -> K\\n\", df_trace_m61[[\"alpha\", \"beta\", \"sigma\", \"mu__0\"]].describe().loc[['mean', 'std']].round(2), \"\\n\")\n",
    "print(\"L -> K\\n\", df_trace_m62[[\"alpha\", \"beta\", \"sigma\", \"mu__0\"]].describe().loc[['mean', 'std']].round(2), \"\\n\")\n",
    "print(\"F & L => K\\n\", df_trace_m63[[\"alpha\", \"beta_f\", \"beta_l\",\"sigma\", \"mu__0\"]].describe().loc[['mean', 'std']].round(2), \"\\n\")"
   ]
  },
  {
   "cell_type": "markdown",
   "metadata": {},
   "source": [
    "Bisa dilihat pada perbandingan antara gradient saat pemodelan single variable dan mutlivariate. Pada multivariate, gradient untuk lemak adalah 0.27 dengan standar deviasi 0.21 sedangkan pada model single variate untuk lemak gradien bererata 0.86 dengan standari deviasi 0.09. Tidak hanya untuk lemak, untuk lactose pun demikian. Nilai rerata absolut pun berkurang dan nilai standar deviasi bertambah.\n",
    "\n",
    "Ini menandakan bahwa saat sudah mengetahu satu variable, tidak ada informasi yang diperoleh saat menambah variabel colinear yang lain. Ini juga bisa diambil dari nilai `mu__0` yang hanya terjadi sedikit perubahan.\n",
    "\n",
    "Kemungkinan terjadi pertukaran nilai lemak dan laktose yang dapat dituliskan sebagai\n",
    "\n",
    "$$C = F + L + \\epsilon$$\n",
    "\n",
    "$C$ adalah sebuah konstanta yang dalam kasus ini adalah persenan yang tentunya ada error dalam nilai $C$ yang diwakili oleh variable $\\epsilon$. Nilai $C$ pada suatu primata selalu sama sehingga apabila nilai lemak $F$ pada susunya tinggi maka nilai laktosa $L$ akan turun agar nilai $C$ tetap konstan.\n",
    "\n",
    "Variable $C$ ini apa yang Pak Richard sebutkan sebagai variabel tidak teridentifikasi (non-identifiable) karena tidak tersedia dalam data. Variabel ini memiliki lingkaran dalam DAG yang Pak Richard buat.\n",
    "\n",
    "Secara umum, tidak ada jaminan bahwa data yang tersedia memiliki informasi yang cukup tentang variable yang diuji. Ini pentingnya membandingkan antara prior dan posterior karena penguji/peneliti dapat melihat pengaruh data terhadap prior. Apabila posterior memiliki properti yang sama dengan prior, data yang diberikan tidak memberikan informasi apapun yang dapat memperbarui kepercayaan terhadap model.\n",
    "\n",
    "> **Takeaway**   \n",
    "Memperhatikan colinearitas antara variabel penting supaya menghindari asumsi yang salah dan membangun model yang akurat. Semakin banyak variabel yang terlibat, maka semakin banyak variabel yang harus dievaluasi colinearitasnya sebelum membangun model."
   ]
  },
  {
   "cell_type": "markdown",
   "metadata": {},
   "source": [
    "#### Post Treatment Bias\n",
    "\n",
    "Ada kekahawatiran tentang menghilangkan suatu variabel prediktor akan berujung pada kesalahan pada pengambilan kesimpulan. Hal ini biasa dinamakan **Omitted variable bias**. Sebaliknya juga ada kehawatiran tentang menambahkan suatu variabel prediktor akan berujung pada kesalahan pada pengambilan kesimpulan. Hal ini disebut **Post treatment bias**. \n",
    "\n",
    "Asumsilah ada penelitian tentang pengaruh perbedaan tanah terhadap tumbuh kembang suatu tumbuhan. Tanah yang dicari adalah tanah yang memiliki kemampuan mengusir jamur karena ada kesimpulan bahwa jamur menhambat tumbuh tumbuhan.\n",
    "\n",
    "Ada empat variable yang akan ditinjau. Awal tinggi tumbuhan, akhir tinggi tumbuhan, perlakuan ke tanah, dan kehadiran jamur. Variable tinggi tumbuhan akan menjadi variabel terobservasi. Mari dibuat modelnya"
   ]
  },
  {
   "cell_type": "code",
   "execution_count": 100,
   "metadata": {},
   "outputs": [],
   "source": [
    "n_plants = 100\n",
    "init_height = norm.rvs(size = n_plants, loc=10, scale=2)\n",
    "treatment = np.repeat([0,1], repeats = n_plants // 2)\n",
    "fungus = binom.rvs(1, 0.5 - treatment * .4, size = n_plants)\n",
    "final_height = init_height + norm.rvs(size=n_plants, loc=5-3 * fungus)"
   ]
  },
  {
   "cell_type": "code",
   "execution_count": 101,
   "metadata": {},
   "outputs": [
    {
     "data": {
      "text/html": [
       "<div>\n",
       "<style scoped>\n",
       "    .dataframe tbody tr th:only-of-type {\n",
       "        vertical-align: middle;\n",
       "    }\n",
       "\n",
       "    .dataframe tbody tr th {\n",
       "        vertical-align: top;\n",
       "    }\n",
       "\n",
       "    .dataframe thead th {\n",
       "        text-align: right;\n",
       "    }\n",
       "</style>\n",
       "<table border=\"1\" class=\"dataframe\">\n",
       "  <thead>\n",
       "    <tr style=\"text-align: right;\">\n",
       "      <th></th>\n",
       "      <th>init_height</th>\n",
       "      <th>treatment</th>\n",
       "      <th>fungus</th>\n",
       "      <th>final_height</th>\n",
       "    </tr>\n",
       "  </thead>\n",
       "  <tbody>\n",
       "    <tr>\n",
       "      <th>mean</th>\n",
       "      <td>10.02</td>\n",
       "      <td>0.5</td>\n",
       "      <td>0.30</td>\n",
       "      <td>14.12</td>\n",
       "    </tr>\n",
       "    <tr>\n",
       "      <th>std</th>\n",
       "      <td>2.05</td>\n",
       "      <td>0.5</td>\n",
       "      <td>0.46</td>\n",
       "      <td>2.84</td>\n",
       "    </tr>\n",
       "  </tbody>\n",
       "</table>\n",
       "</div>"
      ],
      "text/plain": [
       "      init_height  treatment  fungus  final_height\n",
       "mean        10.02        0.5    0.30         14.12\n",
       "std          2.05        0.5    0.46          2.84"
      ]
     },
     "execution_count": 101,
     "metadata": {},
     "output_type": "execute_result"
    }
   ],
   "source": [
    "df = pd.DataFrame({\n",
    "    \"init_height\": init_height,\n",
    "    \"treatment\": treatment,\n",
    "    \"fungus\": fungus,\n",
    "    \"final_height\": final_height\n",
    "})\n",
    "\n",
    "df.describe().loc[[\"mean\", \"std\"]].round(2)"
   ]
  },
  {
   "cell_type": "markdown",
   "metadata": {},
   "source": [
    "Pada model dummy yang dibuat, setngah dari sampel akan diberikan penanganan untuk jamur dan setengah sisanya dibiarkan saja. Pak Richard berargumen bahwa variabel fungus akan menybabkan post treatment bias. Ini dikarenakan fungus diukur bersama variabel yang diprediksi yaitu tinggi final dari tumbuhan."
   ]
  },
  {
   "cell_type": "code",
   "execution_count": 102,
   "metadata": {},
   "outputs": [
    {
     "data": {
      "text/html": [
       "\n",
       "    <div>\n",
       "        <style>\n",
       "            /* Turns off some styling */\n",
       "            progress {\n",
       "                /* gets rid of default border in Firefox and Opera. */\n",
       "                border: none;\n",
       "                /* Needs to be in here for Safari polyfill so background images work as expected. */\n",
       "                background-size: auto;\n",
       "            }\n",
       "            .progress-bar-interrupted, .progress-bar-interrupted::-webkit-progress-bar {\n",
       "                background: #F44336;\n",
       "            }\n",
       "        </style>\n",
       "      <progress value='2000' class='' max='2000' style='width:300px; height:20px; vertical-align: middle;'></progress>\n",
       "      100.00% [2000/2000 00:01<00:00 Sampling chain 0, 0 divergences]\n",
       "    </div>\n",
       "    "
      ],
      "text/plain": [
       "<IPython.core.display.HTML object>"
      ]
     },
     "metadata": {},
     "output_type": "display_data"
    },
    {
     "data": {
      "text/html": [
       "\n",
       "    <div>\n",
       "        <style>\n",
       "            /* Turns off some styling */\n",
       "            progress {\n",
       "                /* gets rid of default border in Firefox and Opera. */\n",
       "                border: none;\n",
       "                /* Needs to be in here for Safari polyfill so background images work as expected. */\n",
       "                background-size: auto;\n",
       "            }\n",
       "            .progress-bar-interrupted, .progress-bar-interrupted::-webkit-progress-bar {\n",
       "                background: #F44336;\n",
       "            }\n",
       "        </style>\n",
       "      <progress value='2000' class='' max='2000' style='width:300px; height:20px; vertical-align: middle;'></progress>\n",
       "      100.00% [2000/2000 00:01<00:00 Sampling chain 1, 0 divergences]\n",
       "    </div>\n",
       "    "
      ],
      "text/plain": [
       "<IPython.core.display.HTML object>"
      ]
     },
     "metadata": {},
     "output_type": "display_data"
    }
   ],
   "source": [
    "with pm.Model() as m64:\n",
    "    p = pm.Lognormal('p', mu=0, sd=.25)\n",
    "    mu = pm.Deterministic('mu',  p * df['init_height'])\n",
    "    sigma = pm.Exponential('sigma', lam=1)\n",
    "    result = pm.Normal('result', mu=mu, sd=sigma, observed=df['final_height'])\n",
    "\n",
    "with m64:\n",
    "    trace_m64 = pm.sample(1000, tune=1000)\n",
    "    df_trace_m64 = pm.trace_to_dataframe(trace_m64)"
   ]
  },
  {
   "cell_type": "code",
   "execution_count": 103,
   "metadata": {},
   "outputs": [
    {
     "data": {
      "text/plain": [
       "mean    1.392859\n",
       "std     0.019952\n",
       "Name: p, dtype: float64"
      ]
     },
     "execution_count": 103,
     "metadata": {},
     "output_type": "execute_result"
    }
   ],
   "source": [
    "df_trace_m64.describe()['p'].loc[['mean', 'std']]"
   ]
  },
  {
   "cell_type": "code",
   "execution_count": 104,
   "metadata": {},
   "outputs": [
    {
     "data": {
      "text/html": [
       "\n",
       "    <div>\n",
       "        <style>\n",
       "            /* Turns off some styling */\n",
       "            progress {\n",
       "                /* gets rid of default border in Firefox and Opera. */\n",
       "                border: none;\n",
       "                /* Needs to be in here for Safari polyfill so background images work as expected. */\n",
       "                background-size: auto;\n",
       "            }\n",
       "            .progress-bar-interrupted, .progress-bar-interrupted::-webkit-progress-bar {\n",
       "                background: #F44336;\n",
       "            }\n",
       "        </style>\n",
       "      <progress value='2000' class='' max='2000' style='width:300px; height:20px; vertical-align: middle;'></progress>\n",
       "      100.00% [2000/2000 00:02<00:00 Sampling chain 0, 0 divergences]\n",
       "    </div>\n",
       "    "
      ],
      "text/plain": [
       "<IPython.core.display.HTML object>"
      ]
     },
     "metadata": {},
     "output_type": "display_data"
    },
    {
     "data": {
      "text/html": [
       "\n",
       "    <div>\n",
       "        <style>\n",
       "            /* Turns off some styling */\n",
       "            progress {\n",
       "                /* gets rid of default border in Firefox and Opera. */\n",
       "                border: none;\n",
       "                /* Needs to be in here for Safari polyfill so background images work as expected. */\n",
       "                background-size: auto;\n",
       "            }\n",
       "            .progress-bar-interrupted, .progress-bar-interrupted::-webkit-progress-bar {\n",
       "                background: #F44336;\n",
       "            }\n",
       "        </style>\n",
       "      <progress value='2000' class='' max='2000' style='width:300px; height:20px; vertical-align: middle;'></progress>\n",
       "      100.00% [2000/2000 00:02<00:00 Sampling chain 1, 0 divergences]\n",
       "    </div>\n",
       "    "
      ],
      "text/plain": [
       "<IPython.core.display.HTML object>"
      ]
     },
     "metadata": {},
     "output_type": "display_data"
    }
   ],
   "source": [
    "def generate_trace_df(model):\n",
    "    with model:\n",
    "        trace = pm.sample(1000, tune=1000)\n",
    "        return pm.trace_to_dataframe(trace)\n",
    "\n",
    "with pm.Model() as m65:\n",
    "    alpha = pm.Lognormal('alpha', mu=0, sd=.25)\n",
    "    beta_t = pm.Normal('beta_t', mu=0, sd=.5)\n",
    "    beta_f = pm.Normal('beta_f', mu=0, sd=.5)\n",
    "    p = pm.Deterministic('p',  alpha + beta_t * df['treatment'] + beta_f * df['fungus'])\n",
    "    mu = p * df['init_height']\n",
    "    sigma = pm.Exponential('sigma', lam=1)\n",
    "    result = pm.Normal('result', mu=mu, sd=sigma, observed=df['final_height'])\n",
    "\n",
    "df_trace_m65 = generate_trace_df(m65)"
   ]
  },
  {
   "cell_type": "code",
   "execution_count": 105,
   "metadata": {},
   "outputs": [
    {
     "data": {
      "text/html": [
       "<div>\n",
       "<style scoped>\n",
       "    .dataframe tbody tr th:only-of-type {\n",
       "        vertical-align: middle;\n",
       "    }\n",
       "\n",
       "    .dataframe tbody tr th {\n",
       "        vertical-align: top;\n",
       "    }\n",
       "\n",
       "    .dataframe thead th {\n",
       "        text-align: right;\n",
       "    }\n",
       "</style>\n",
       "<table border=\"1\" class=\"dataframe\">\n",
       "  <thead>\n",
       "    <tr style=\"text-align: right;\">\n",
       "      <th></th>\n",
       "      <th>alpha</th>\n",
       "      <th>beta_t</th>\n",
       "      <th>beta_f</th>\n",
       "      <th>p__0</th>\n",
       "    </tr>\n",
       "  </thead>\n",
       "  <tbody>\n",
       "    <tr>\n",
       "      <th>mean</th>\n",
       "      <td>1.49</td>\n",
       "      <td>-0.03</td>\n",
       "      <td>-0.30</td>\n",
       "      <td>1.19</td>\n",
       "    </tr>\n",
       "    <tr>\n",
       "      <th>std</th>\n",
       "      <td>0.03</td>\n",
       "      <td>0.03</td>\n",
       "      <td>0.04</td>\n",
       "      <td>0.03</td>\n",
       "    </tr>\n",
       "  </tbody>\n",
       "</table>\n",
       "</div>"
      ],
      "text/plain": [
       "      alpha  beta_t  beta_f  p__0\n",
       "mean   1.49   -0.03   -0.30  1.19\n",
       "std    0.03    0.03    0.04  0.03"
      ]
     },
     "execution_count": 105,
     "metadata": {},
     "output_type": "execute_result"
    }
   ],
   "source": [
    "df_trace_m65.describe()[['alpha', 'beta_t', 'beta_f', 'p__0']].loc[['mean', 'std']].round(2)"
   ]
  },
  {
   "cell_type": "code",
   "execution_count": 106,
   "metadata": {},
   "outputs": [
    {
     "data": {
      "text/html": [
       "\n",
       "    <div>\n",
       "        <style>\n",
       "            /* Turns off some styling */\n",
       "            progress {\n",
       "                /* gets rid of default border in Firefox and Opera. */\n",
       "                border: none;\n",
       "                /* Needs to be in here for Safari polyfill so background images work as expected. */\n",
       "                background-size: auto;\n",
       "            }\n",
       "            .progress-bar-interrupted, .progress-bar-interrupted::-webkit-progress-bar {\n",
       "                background: #F44336;\n",
       "            }\n",
       "        </style>\n",
       "      <progress value='2000' class='' max='2000' style='width:300px; height:20px; vertical-align: middle;'></progress>\n",
       "      100.00% [2000/2000 00:02<00:00 Sampling chain 0, 0 divergences]\n",
       "    </div>\n",
       "    "
      ],
      "text/plain": [
       "<IPython.core.display.HTML object>"
      ]
     },
     "metadata": {},
     "output_type": "display_data"
    },
    {
     "data": {
      "text/html": [
       "\n",
       "    <div>\n",
       "        <style>\n",
       "            /* Turns off some styling */\n",
       "            progress {\n",
       "                /* gets rid of default border in Firefox and Opera. */\n",
       "                border: none;\n",
       "                /* Needs to be in here for Safari polyfill so background images work as expected. */\n",
       "                background-size: auto;\n",
       "            }\n",
       "            .progress-bar-interrupted, .progress-bar-interrupted::-webkit-progress-bar {\n",
       "                background: #F44336;\n",
       "            }\n",
       "        </style>\n",
       "      <progress value='2000' class='' max='2000' style='width:300px; height:20px; vertical-align: middle;'></progress>\n",
       "      100.00% [2000/2000 00:02<00:00 Sampling chain 1, 0 divergences]\n",
       "    </div>\n",
       "    "
      ],
      "text/plain": [
       "<IPython.core.display.HTML object>"
      ]
     },
     "metadata": {},
     "output_type": "display_data"
    },
    {
     "data": {
      "text/html": [
       "<div>\n",
       "<style scoped>\n",
       "    .dataframe tbody tr th:only-of-type {\n",
       "        vertical-align: middle;\n",
       "    }\n",
       "\n",
       "    .dataframe tbody tr th {\n",
       "        vertical-align: top;\n",
       "    }\n",
       "\n",
       "    .dataframe thead th {\n",
       "        text-align: right;\n",
       "    }\n",
       "</style>\n",
       "<table border=\"1\" class=\"dataframe\">\n",
       "  <thead>\n",
       "    <tr style=\"text-align: right;\">\n",
       "      <th></th>\n",
       "      <th>alpha</th>\n",
       "      <th>beta_t</th>\n",
       "      <th>p__0</th>\n",
       "    </tr>\n",
       "  </thead>\n",
       "  <tbody>\n",
       "    <tr>\n",
       "      <th>mean</th>\n",
       "      <td>1.35</td>\n",
       "      <td>0.08</td>\n",
       "      <td>1.35</td>\n",
       "    </tr>\n",
       "    <tr>\n",
       "      <th>std</th>\n",
       "      <td>0.03</td>\n",
       "      <td>0.04</td>\n",
       "      <td>0.03</td>\n",
       "    </tr>\n",
       "  </tbody>\n",
       "</table>\n",
       "</div>"
      ],
      "text/plain": [
       "      alpha  beta_t  p__0\n",
       "mean   1.35    0.08  1.35\n",
       "std    0.03    0.04  0.03"
      ]
     },
     "execution_count": 106,
     "metadata": {},
     "output_type": "execute_result"
    }
   ],
   "source": [
    "with pm.Model() as m66:\n",
    "    alpha = pm.Lognormal('alpha', mu=0, sd=.25)\n",
    "    beta_t = pm.Normal('beta_t', mu=0, sd=.5)\n",
    "    p = pm.Deterministic('p',  alpha + beta_t * df['treatment'])\n",
    "    mu = p * df['init_height']\n",
    "    sigma = pm.Exponential('sigma', lam=1)\n",
    "    result = pm.Normal('result', mu=mu, sd=sigma, observed=df['final_height'])\n",
    "\n",
    "df_trace_m66 = generate_trace_df(m66)\n",
    "df_trace_m66.describe()[['alpha', 'beta_t', 'p__0']].loc[['mean', 'std']].round(2)"
   ]
  },
  {
   "cell_type": "markdown",
   "metadata": {},
   "source": [
    "Beta pada model sebelumnya memiliki rerata sebesar $-0.03$ ini tidak mungkin atau ada sesuatu yang salah. Pada model selanjutnya, variabel fungus tidak lagi mejadi prediktor maka gradient pada treatment berubah menjadi $0.08$. Ini lebih masuk akal dibandingkan dengan model sebeleumnya.\n",
    "\n",
    "Intinya yang dibicarakan oleh Pak Richard adalah model menganggap apabila sudah mengetahui nilai fungi maka tidak lagi diperlukan nilai treatment. Ini dapat berakibat asumsi bahwa penanganan yang dilakukan tidak berpengaruh karena pada model nilai betanya adalah nol. Ini juga dapat membuat korelasi palsu.\n",
    "\n",
    "Semisal ada suatu tumbuhan yang tidak terpengaruhi pada jamur akan tetapi pertumbuhannya dapat dipengaruhi oleh kelembapan udara. Faktor kelembapan udara ini tidak dimasukan kedalam model. Kelembapan mempengaruhi dua hal yaitu laju tumbuh fungi dan tumbuhan tersebut. Semisal tumbuhan tidak dapat tumbuh kembang pada kelembapan udara yang tinggi. Ini akan menimbulkan kausalitas palsu karena yang ada pada model adalah laju tumbuh fungi dan tinggi akhir tumbuhan. Semakin tinggi laju tumbuh fungsi maka akan semakin kecil pula tanaman yang sedang ditinjau. Ini dapat menyebabkan peniliti mengambil kesimpulan yang salah bahwa laju tumbuh fungsi berpengaruh terbalik terhadapt laju tumbuh tanaman.\n",
    "\n",
    "> **Takeaway**   \n",
    "apabila ada suatu penelitian, haruslah ditinjau DAG antara variabel sehingga dapat diketahui conditional independence antar variabel. Ini untuk mencegah post treatment bias."
   ]
  },
  {
   "cell_type": "markdown",
   "metadata": {},
   "source": [
    "## Collider Bias"
   ]
  },
  {
   "cell_type": "markdown",
   "metadata": {},
   "source": [
    "Colider Bias terjadi saat DAG yang dibuat berbentuk seperti $A \\rightarrow B \\leftarrow C$. Pak Richard mencobtohkan sebagai faktor yang dapat mempengaruhi dana hibah penelitian $S$. Ada dua faktor yaitu kepercayaan $T$ dan tingkat terobosan $N$. Apabila diketahui bahwa ada suatu penelitian yang menerima data hibah dan memilikib kepercayaan rendah, maka dapat disimpulkan tingkat terobosanya tinggi begitu juga sebaliknya.\n",
    "\n",
    "Kasus lain yang diajukan adalah apakah umur berhubungan dengan kebahagiaan. Kausal model yang diajukan adalah sebagai berikut\n",
    "\n",
    "$$ H \\rightarrow M \\leftarrow A$$\n",
    "\n",
    "- $H$ adalah tingkat kebahagiaan\n",
    "- $M$ adalah tingkat pernikahan\n",
    "- $A$ adalah umur peserta"
   ]
  },
  {
   "cell_type": "code",
   "execution_count": 58,
   "metadata": {},
   "outputs": [],
   "source": [
    "n_years = 1000\n",
    "n_samples = 1000\n",
    "class HappinesMarriage():\n",
    "    def __init__(self):\n",
    "        self.n_samples = 1000\n",
    "        self.n_years = 1000\n",
    "        self.start_year = 0\n",
    "        self.end_year = 65\n",
    "        \n",
    "    def generate_sample(self):\n",
    "        self.samples_array = np.zeros([self.n_samples, self.end_year])\n",
    "        self.happines_array = np.random.uniform(size = self.n_samples)\n",
    "        \n",
    "    def is_married(self, value):\n",
    "        return value == 1\n",
    "    \n",
    "    def alter_to_married(self, value):\n",
    "        return 1\n",
    "        \n",
    "    def is_getting_marriage(self, age):\n",
    "        if age < 18:\n",
    "            return\n",
    "        previous_status = self.samples_array[:, age-1]\n",
    "        for index, value in enumerate(self.samples_array[:, age]):\n",
    "            if self.is_married(previous_status[index]):\n",
    "                self.samples_array[index, age] = 1\n",
    "            else:\n",
    "                self.samples_array[index, age] = np.random.choice([0,1], p=[1-self.happines_array[index], self.happines_array[index]])\n",
    "            \n",
    "    def roll_age(self):\n",
    "        self.generate_sample()\n",
    "        for i in range(65):\n",
    "            self.is_getting_marriage(i)\n",
    "        print(self.samples_array)"
   ]
  },
  {
   "cell_type": "code",
   "execution_count": 59,
   "metadata": {},
   "outputs": [],
   "source": [
    "model1 = HappinesMarriage()"
   ]
  },
  {
   "cell_type": "code",
   "execution_count": 60,
   "metadata": {},
   "outputs": [
    {
     "name": "stdout",
     "output_type": "stream",
     "text": [
      "[[0. 0. 0. ... 1. 1. 1.]\n",
      " [0. 0. 0. ... 1. 1. 1.]\n",
      " [0. 0. 0. ... 0. 0. 0.]\n",
      " ...\n",
      " [0. 0. 0. ... 1. 1. 1.]\n",
      " [0. 0. 0. ... 1. 1. 1.]\n",
      " [0. 0. 0. ... 1. 1. 1.]]\n"
     ]
    }
   ],
   "source": [
    "model1.roll_age()"
   ]
  },
  {
   "cell_type": "code",
   "execution_count": 76,
   "metadata": {
    "scrolled": false
   },
   "outputs": [
    {
     "data": {
      "image/png": "[encoded data removed]",
      "text/plain": [
       "<Figure size 1296x2592 with 1 Axes>"
      ]
     },
     "metadata": {
      "needs_background": "light"
     },
     "output_type": "display_data"
    }
   ],
   "source": [
    "fig, ax = plt.subplots(nrows=1, ncols=1)\n",
    "fig.set_figwidth(18)\n",
    "fig.set_figheight(36)\n",
    "ax = sns.heatmap(model1.samples_array[:200,:], linewidths=.5, cbar=False)"
   ]
  },
  {
   "cell_type": "markdown",
   "metadata": {},
   "source": [
    "Dikarenakan contoh ini terlau rumit dan bayak asumsi yang dipertanyakan, maka kita akan menggunakan contoh kedua. Pada contoh kedua, diajukan asumsi bahwa tingkat pendidikan orang tua berhubungan positif terhadap tingkat pendidikan anak. Yang menjadi pertanyaan adalah apakah ada hubungan tingkat pendidikan antar generasi seperti hubugnan tingak pendidikan antara seorang anak dan kakeknya.\n",
    "\n",
    "DAG yang dibat adalah seperti ini\n",
    "$$\n",
    "    \\begin{matrix}\n",
    "\t\tG & \\rightarrow & P \\\\\n",
    "\t\t  & \\searrow & \\downarrow \\\\\n",
    "          & & C\n",
    "\t\\end{matrix}\n",
    "$$\n",
    "\n",
    "Tapi dalam kasus ini terdapat sebuah variabel tak terobservasi sehingga DAG terlihat seperti\n",
    "\n",
    "$$\n",
    "    \\begin{matrix}\n",
    "\t\tG & \\rightarrow & P & \\leftarrow & \\mathbb{U} \\\\\n",
    "\t\t  & \\searrow & \\downarrow & \\swarrow & \\\\\n",
    "          & & C\n",
    "\t\\end{matrix}\n",
    "$$\n"
   ]
  },
  {
   "cell_type": "code",
   "execution_count": 108,
   "metadata": {},
   "outputs": [],
   "source": [
    "n_sample = 200\n",
    "b_GP = 1\n",
    "b_GC = 0\n",
    "b_PC = 1\n",
    "b_U = 2\n",
    "\n",
    "U = 2 * bernoulli.rvs(0.5, size=n_sample) - 1\n",
    "G = norm.rvs(size = n_sample)\n",
    "P = norm.rvs(size = n_sample, loc = b_GP * G + b_U * U)\n",
    "C = norm.rvs(size = n_sample, loc = b_GC * G + b_U * U + b_PC * P)\n",
    "df = pd.DataFrame({\n",
    "    \"Child\": C,\n",
    "    \"Parent\": P,\n",
    "    \"GrandParent\": G,\n",
    "    \"Unobserved\": U\n",
    "})"
   ]
  },
  {
   "cell_type": "code",
   "execution_count": 109,
   "metadata": {},
   "outputs": [
    {
     "data": {
      "text/html": [
       "\n",
       "    <div>\n",
       "        <style>\n",
       "            /* Turns off some styling */\n",
       "            progress {\n",
       "                /* gets rid of default border in Firefox and Opera. */\n",
       "                border: none;\n",
       "                /* Needs to be in here for Safari polyfill so background images work as expected. */\n",
       "                background-size: auto;\n",
       "            }\n",
       "            .progress-bar-interrupted, .progress-bar-interrupted::-webkit-progress-bar {\n",
       "                background: #F44336;\n",
       "            }\n",
       "        </style>\n",
       "      <progress value='2000' class='' max='2000' style='width:300px; height:20px; vertical-align: middle;'></progress>\n",
       "      100.00% [2000/2000 00:02<00:00 Sampling chain 0, 0 divergences]\n",
       "    </div>\n",
       "    "
      ],
      "text/plain": [
       "<IPython.core.display.HTML object>"
      ]
     },
     "metadata": {},
     "output_type": "display_data"
    },
    {
     "data": {
      "text/html": [
       "\n",
       "    <div>\n",
       "        <style>\n",
       "            /* Turns off some styling */\n",
       "            progress {\n",
       "                /* gets rid of default border in Firefox and Opera. */\n",
       "                border: none;\n",
       "                /* Needs to be in here for Safari polyfill so background images work as expected. */\n",
       "                background-size: auto;\n",
       "            }\n",
       "            .progress-bar-interrupted, .progress-bar-interrupted::-webkit-progress-bar {\n",
       "                background: #F44336;\n",
       "            }\n",
       "        </style>\n",
       "      <progress value='2000' class='' max='2000' style='width:300px; height:20px; vertical-align: middle;'></progress>\n",
       "      100.00% [2000/2000 00:02<00:00 Sampling chain 1, 0 divergences]\n",
       "    </div>\n",
       "    "
      ],
      "text/plain": [
       "<IPython.core.display.HTML object>"
      ]
     },
     "metadata": {},
     "output_type": "display_data"
    }
   ],
   "source": [
    "with pm.Model() as m67:\n",
    "    alpha = pm.Normal('alpha', mu=0, sd=1)\n",
    "    c = pm.Normal('c', mu=0, sd=1)\n",
    "    b_pc = pm.Normal('b_pc', mu=0, sd=1)\n",
    "    b_gc = pm.Normal('b_gc', mu=0, sd=1)\n",
    "    sigma = pm.Exponential('sigma', lam=1)\n",
    "    mu = pm.Deterministic('mu', alpha + b_pc * df['Parent'] + b_gc * df['GrandParent'])\n",
    "    result = pm.Normal('result', mu = mu, sd=sigma, observed=df['Child'])\n",
    "    \n",
    "df_trace_m67 = generate_trace_df(m67)"
   ]
  },
  {
   "cell_type": "code",
   "execution_count": 114,
   "metadata": {},
   "outputs": [
    {
     "data": {
      "text/plain": [
       "<matplotlib.legend.Legend at 0x7f2262ea0d50>"
      ]
     },
     "execution_count": 114,
     "metadata": {},
     "output_type": "execute_result"
    },
    {
     "data": {
      "image/png": "[encoded data removed]",
      "text/plain": [
       "<Figure size 1008x576 with 1 Axes>"
      ]
     },
     "metadata": {
      "needs_background": "light"
     },
     "output_type": "display_data"
    }
   ],
   "source": [
    "fig, ax = plt.subplots(nrows=1, ncols=1)\n",
    "fig.set_figwidth(14)\n",
    "fig.set_figheight(8)\n",
    "\n",
    "df_unobserved_0 = df[df['Unobserved'] == -1]\n",
    "df_unobserved_1= df[df['Unobserved'] == 1]\n",
    "\n",
    "ax.scatter(df_unobserved_0['GrandParent'], df_unobserved_0['Child'], label = 'U = -1', marker='x')\n",
    "ax.scatter(df_unobserved_1['GrandParent'], df_unobserved_1['Child'], label = 'U = 1', marker='x')\n",
    "ax.set_ylabel(\"Children Education Level\")\n",
    "ax.set_xlabel(\"Grandparent Education Level\")\n",
    "ax.plot(df['GrandParent'].sort_values(), df_trace_m67['alpha'].mean() + df_trace_m67['b_gc'].mean() * df['GrandParent'].sort_values())\n",
    "ax.legend()"
   ]
  },
  {
   "cell_type": "code",
   "execution_count": 118,
   "metadata": {},
   "outputs": [
    {
     "data": {
      "text/html": [
       "<div>\n",
       "<style scoped>\n",
       "    .dataframe tbody tr th:only-of-type {\n",
       "        vertical-align: middle;\n",
       "    }\n",
       "\n",
       "    .dataframe tbody tr th {\n",
       "        vertical-align: top;\n",
       "    }\n",
       "\n",
       "    .dataframe thead th {\n",
       "        text-align: right;\n",
       "    }\n",
       "</style>\n",
       "<table border=\"1\" class=\"dataframe\">\n",
       "  <thead>\n",
       "    <tr style=\"text-align: right;\">\n",
       "      <th></th>\n",
       "      <th>alpha</th>\n",
       "      <th>b_gc</th>\n",
       "      <th>b_pc</th>\n",
       "    </tr>\n",
       "  </thead>\n",
       "  <tbody>\n",
       "    <tr>\n",
       "      <th>mean</th>\n",
       "      <td>0.01</td>\n",
       "      <td>-0.67</td>\n",
       "      <td>1.78</td>\n",
       "    </tr>\n",
       "    <tr>\n",
       "      <th>std</th>\n",
       "      <td>0.10</td>\n",
       "      <td>0.10</td>\n",
       "      <td>0.04</td>\n",
       "    </tr>\n",
       "  </tbody>\n",
       "</table>\n",
       "</div>"
      ],
      "text/plain": [
       "      alpha  b_gc  b_pc\n",
       "mean   0.01 -0.67  1.78\n",
       "std    0.10  0.10  0.04"
      ]
     },
     "execution_count": 118,
     "metadata": {},
     "output_type": "execute_result"
    }
   ],
   "source": [
    "df_trace_m67.describe()[['alpha', 'b_gc', 'b_pc']].loc[['mean', 'std']].round(2)"
   ]
  },
  {
   "cell_type": "markdown",
   "metadata": {},
   "source": [
    "Ini adalah contoh dari collider bias. Meski sudah diberikan nilai 0 pada variabel `b_GC` model menganggap relasi antara tingkat pendidikan anak berbanding terbalik dengan tingkat pendidikan kakek. Apabila diperhatikan dengan seksama, ada pemisah. Pemisah ini adalah variabel yang tidak terobsevasi tapi tetap berpengaruh terhadap tingkat pendidikan anak dan orang tua. Hal ini semakin jelas karena adanya perbedaan warna pada plot. Apabila tidak diketahui variabel $U$, maka peneliti dapat mengambil kesimpulan bahwa tingkat pendidikan kakek berbanding terbalik dengan tingkat pendidikan anak.\n",
    "\n",
    "Plot diatas bisa dibagi ke dua klaster. Masing-masing klaster memiliki korelasi postif antara tingkat pendidikan kakek dan tingkat pendidikan anak akan tetapi dikarenakan kedua cluster tersebut digabungkan (asumsi bahwa peniliti tidak tahu variabel $U$) korelasi tersebut menjadi negatif. Solusi dari permasalahan ini adalah dengan mengetahui $U$ sehingga dapat dimasukan kedalam model."
   ]
  },
  {
   "cell_type": "code",
   "execution_count": 119,
   "metadata": {},
   "outputs": [
    {
     "data": {
      "text/html": [
       "\n",
       "    <div>\n",
       "        <style>\n",
       "            /* Turns off some styling */\n",
       "            progress {\n",
       "                /* gets rid of default border in Firefox and Opera. */\n",
       "                border: none;\n",
       "                /* Needs to be in here for Safari polyfill so background images work as expected. */\n",
       "                background-size: auto;\n",
       "            }\n",
       "            .progress-bar-interrupted, .progress-bar-interrupted::-webkit-progress-bar {\n",
       "                background: #F44336;\n",
       "            }\n",
       "        </style>\n",
       "      <progress value='2000' class='' max='2000' style='width:300px; height:20px; vertical-align: middle;'></progress>\n",
       "      100.00% [2000/2000 00:05<00:00 Sampling chain 0, 0 divergences]\n",
       "    </div>\n",
       "    "
      ],
      "text/plain": [
       "<IPython.core.display.HTML object>"
      ]
     },
     "metadata": {},
     "output_type": "display_data"
    },
    {
     "data": {
      "text/html": [
       "\n",
       "    <div>\n",
       "        <style>\n",
       "            /* Turns off some styling */\n",
       "            progress {\n",
       "                /* gets rid of default border in Firefox and Opera. */\n",
       "                border: none;\n",
       "                /* Needs to be in here for Safari polyfill so background images work as expected. */\n",
       "                background-size: auto;\n",
       "            }\n",
       "            .progress-bar-interrupted, .progress-bar-interrupted::-webkit-progress-bar {\n",
       "                background: #F44336;\n",
       "            }\n",
       "        </style>\n",
       "      <progress value='2000' class='' max='2000' style='width:300px; height:20px; vertical-align: middle;'></progress>\n",
       "      100.00% [2000/2000 00:04<00:00 Sampling chain 1, 0 divergences]\n",
       "    </div>\n",
       "    "
      ],
      "text/plain": [
       "<IPython.core.display.HTML object>"
      ]
     },
     "metadata": {},
     "output_type": "display_data"
    },
    {
     "data": {
      "text/html": [
       "<div>\n",
       "<style scoped>\n",
       "    .dataframe tbody tr th:only-of-type {\n",
       "        vertical-align: middle;\n",
       "    }\n",
       "\n",
       "    .dataframe tbody tr th {\n",
       "        vertical-align: top;\n",
       "    }\n",
       "\n",
       "    .dataframe thead th {\n",
       "        text-align: right;\n",
       "    }\n",
       "</style>\n",
       "<table border=\"1\" class=\"dataframe\">\n",
       "  <thead>\n",
       "    <tr style=\"text-align: right;\">\n",
       "      <th></th>\n",
       "      <th>alpha</th>\n",
       "      <th>b_gc</th>\n",
       "      <th>b_pc</th>\n",
       "      <th>b_uc</th>\n",
       "    </tr>\n",
       "  </thead>\n",
       "  <tbody>\n",
       "    <tr>\n",
       "      <th>mean</th>\n",
       "      <td>0.00</td>\n",
       "      <td>0.12</td>\n",
       "      <td>0.98</td>\n",
       "      <td>1.97</td>\n",
       "    </tr>\n",
       "    <tr>\n",
       "      <th>std</th>\n",
       "      <td>0.07</td>\n",
       "      <td>0.09</td>\n",
       "      <td>0.06</td>\n",
       "      <td>0.14</td>\n",
       "    </tr>\n",
       "  </tbody>\n",
       "</table>\n",
       "</div>"
      ],
      "text/plain": [
       "      alpha  b_gc  b_pc  b_uc\n",
       "mean   0.00  0.12  0.98  1.97\n",
       "std    0.07  0.09  0.06  0.14"
      ]
     },
     "execution_count": 119,
     "metadata": {},
     "output_type": "execute_result"
    }
   ],
   "source": [
    "with pm.Model() as m68:\n",
    "    alpha = pm.Normal('alpha', mu=0, sd=1)\n",
    "    c = pm.Normal('c', mu=0, sd=1)\n",
    "    b_pc = pm.Normal('b_pc', mu=0, sd=1)\n",
    "    b_gc = pm.Normal('b_gc', mu=0, sd=1)\n",
    "    b_uc = pm.Normal('b_uc', mu=0, sd=1)\n",
    "    sigma = pm.Exponential('sigma', lam=1)\n",
    "    mu = pm.Deterministic('mu', alpha + b_pc * df['Parent'] + b_gc * df['GrandParent'] + b_uc * df['Unobserved'])\n",
    "    result = pm.Normal('result', mu = mu, sd=sigma, observed=df['Child'])\n",
    "    \n",
    "df_trace_m68 = generate_trace_df(m68)\n",
    "df_trace_m68.describe()[['alpha', 'b_gc', 'b_pc', 'b_uc']].loc[['mean', 'std']].round(2)"
   ]
  },
  {
   "cell_type": "markdown",
   "metadata": {},
   "source": [
    "Relasi antara tingkat pendidikan pada kakek dan tingkat pendidikan anak menjadi positif setelah variabel $U$ dimasukan menjadi salah satu prediktor model."
   ]
  },
  {
   "cell_type": "markdown",
   "metadata": {},
   "source": [
    "## Confounding\n",
    "\n",
    "> **Confounding** dapat didefinisikan sebagai asosiasi antara variabel yang ingin diprediksi $Y$ dan variabel prediktor yang ditinjau $X$ tidak sama dengan apabila kita sudah menetukan nilai $X$ secara experimental. \n",
    "\n",
    "Semisal ingin dibuat penelitian yang mengasosiasikan antara gaji $W$ dan tingkat pendidikan $E$. Rumitnya kehidupan membuat ada sebuah faktor extrnal $U$ yang dapat mempengaruhi keduanya. DAG anya adalah\n",
    "\n",
    "$$\n",
    "\\begin{matrix}\n",
    "    U & \\rightarrow & E \\\\\n",
    "     & \\searrow & \\downarrow \\\\\n",
    "     & & W\n",
    "\\end{matrix}\n",
    "$$"
   ]
  },
  {
   "cell_type": "markdown",
   "metadata": {},
   "source": [
    "Apabila dilakukan regresi $E$ terhadap $W$ maka ada campur tangan $U$ pada penarikan kesimpulan. Untuk mencegah hal ini, didefiniskan sebuat istilah bernama jejak kausal. Jejak kausal dapat difinisikan sebagai apabila relasi yang apabila diubah akan mengubah variabel tujuan. Pada kasus diatas, apabila nilai $E$ diubah maka nilai $W$ juga berubah.\n",
    "Ada lagi jejak non causal. Contoh dari jejak non causal adalah $E \\leftarrow U \\rightarrow W$. Jejak non causal adalah yang harus dihapuskan sebelum melakukan experimen atau pembagunan model.\n",
    "\n",
    "Bagaimana cara mengeliminasi jejak non causal? Ini dapat dikerjakan dengan mengerjakan experimen. Pada kasus diatas nilai $E$ dibuat secara random sehingga $U$ tidak memiliki pengaruh terhadap $E$. Jadi menentukan/mengkondisikan $E$ akan menhilangkan jejak non kausal. Jejak non causal akan hilang dengan cara diatas karena tidak ada lagi relasi antara $U$ dan $E$. DAG yang baru dapat dituilskan sebagai berikut.\n",
    "\n",
    "$$\n",
    "\\begin{matrix}\n",
    "    U &  & E \\\\\n",
    "     & \\searrow & \\downarrow \\\\\n",
    "     & & W\n",
    "\\end{matrix}\n",
    "$$"
   ]
  },
  {
   "cell_type": "markdown",
   "metadata": {},
   "source": [
    "Cara lain yang dapat dilakukan apabila $E$ tidak dapat dikondisikan ialah dengan mengondisikan $U$; menjadikan variabel tersebut terukur. Ini dapat terjadi karena apabila $U$ diketahui, maka mengetahui $E$ tidak menambah informasi apapun tentang $W$ dengan asumsi hanya ada jejak $E \\leftarrow U \\rightarrow W$.\n",
    "\n",
    "Memilah milah confounding variable ini penting agar tidak tercampur mana yang berkorelasi langsung dan mana yang tidak. Variabel yang memiliki hubungan tapi tidak diinginkan dalam model disebut sebagai backdoor. Ini juga dapat membantu mengembangkan model dengan mempertimbangkan data mana saja yang harus dimasukan berdasarkan DAG yang dibuat. Salah satu tujuan DAG adalah menjelaskan confounding variable. Ada 4 tipe DAG yang harus diperhatikan karena keempat DAG ini adalah rangka dasar semua DAG.\n",
    "\n",
    "1. Fork $A \\leftarrow X \\rightarrow B$\n",
    "Ini sama dengan posisi variabel $U$ pada contoh sebelumnya. $A$ dan $B$ tidak tergantung antara satu dengan yang lain apabila variabel $X$ dikondisikan. \n",
    "\n",
    "2. Pipe $A \\rightarrow X \\rightarrow C$\n",
    "Sama dengan fork, apabila variabel $X$ dikondisikan, maka mengetahui $A$ tidak memberi informasi mengenai $C$. Ini sama dengan contoh jamur pada post treatment bias. Apabila nilai jamurnya dikondisikan, maka mengetahui treatment tidak akan memberikan informasi tambahan mengenai laju tumbuh tumbuhan.\n",
    "\n",
    "3. Collider $A \\leftarrow X \\rightarrow C$\n",
    "Collider memiliki sifat kebalikan dari sebelumnya. Tidak ada asosiasi antara $A$ dan $C$ tetapi keduanya akan memiliki asosiasi apabila $X$ dikondisikan. Kemungkinan malah akan terlihat seperti fork\n",
    "\n",
    "Untuk menutup confounding variable ini ada empat langkah yang dapat dilakukan apabila sudah memiliki DAG.\n",
    "\n",
    "1. Cari semua jejak yang berasal dari $x$ ke $Y$\n",
    "2. Tentukan apakah jejak tersebut sudah tertutup atau terbuka\n",
    "3. Tentukan variabel mana yang akan dikondisikan sehingga menutup backdoor."
   ]
  },
  {
   "cell_type": "code",
   "execution_count": null,
   "metadata": {},
   "outputs": [],
   "source": []
  }
 ],
 "metadata": {
  "kernelspec": {
   "display_name": "Python 3",
   "language": "python",
   "name": "python3"
  },
  "language_info": {
   "codemirror_mode": {
    "name": "ipython",
    "version": 3
   },
   "file_extension": ".py",
   "mimetype": "text/x-python",
   "name": "python",
   "nbconvert_exporter": "python",
   "pygments_lexer": "ipython3",
   "version": "3.7.6"
  }
 },
 "nbformat": 4,
 "nbformat_minor": 4
}
